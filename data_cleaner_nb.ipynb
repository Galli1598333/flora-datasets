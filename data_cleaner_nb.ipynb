{
 "cells": [
  {
   "cell_type": "code",
   "execution_count": 428,
   "metadata": {
    "collapsed": true
   },
   "outputs": [],
   "source": [
    "import pandas as pd\n",
    "import os\n",
    "import random"
   ]
  },
  {
   "cell_type": "markdown",
   "source": [
    "Insert number of gateways in the simulation"
   ],
   "metadata": {
    "collapsed": false
   }
  },
  {
   "cell_type": "code",
   "execution_count": 429,
   "outputs": [],
   "source": [
    "numberOfGWs = 5"
   ],
   "metadata": {
    "collapsed": false,
    "pycharm": {
     "name": "#%%\n"
    }
   }
  },
  {
   "cell_type": "markdown",
   "source": [
    "Insert vectors from the results of the simulation, exported unsorted form OMNet++ in *csv for spreadsheet* format with *vertical-joined* option selected"
   ],
   "metadata": {
    "collapsed": false
   }
  },
  {
   "cell_type": "code",
   "source": [
    "csvSourceFilePath = '/Users/gianlucagalli/Desktop/Personale/Lavoro/CNIT/export-dati-flora/sim-two-obstacles/loc-20210629.csv'"
   ],
   "metadata": {
    "collapsed": false,
    "pycharm": {
     "name": "#%%\n"
    }
   },
   "execution_count": 430,
   "outputs": []
  },
  {
   "cell_type": "code",
   "execution_count": 431,
   "outputs": [
    {
     "data": {
      "text/plain": "'/Users/gianlucagalli/Desktop/Personale/Lavoro/CNIT/export-dati-flora/sim-two-obstacles/loc-20210629_processed.csv'"
     },
     "execution_count": 431,
     "metadata": {},
     "output_type": "execute_result"
    }
   ],
   "source": [
    "path, filename = os.path.split(csvSourceFilePath)\n",
    "resultsFilename = '%s_processed%s' % os.path.splitext(filename)\n",
    "resultsPath = os.path.join(path, resultsFilename)\n",
    "\n",
    "data = pd.read_csv(csvSourceFilePath, sep=',')\n",
    "resultsPath"
   ],
   "metadata": {
    "collapsed": false,
    "pycharm": {
     "name": "#%%\n"
    }
   }
  },
  {
   "cell_type": "code",
   "execution_count": 432,
   "outputs": [],
   "source": [
    "dfCount = pd.DataFrame(data).iloc[:,[0,1]]"
   ],
   "metadata": {
    "collapsed": false,
    "pycharm": {
     "name": "#%%\n"
    }
   }
  },
  {
   "cell_type": "code",
   "execution_count": 433,
   "outputs": [],
   "source": [
    "dfNode = pd.DataFrame(data).iloc[:,[2,3,4,5,6]]"
   ],
   "metadata": {
    "collapsed": false,
    "pycharm": {
     "name": "#%%\n"
    }
   }
  },
  {
   "cell_type": "code",
   "execution_count": 434,
   "outputs": [],
   "source": [
    "skipped = 0\n",
    "for i in range(numberOfGWs):\n",
    "    dfGW = data.filter(regex=\"^t$|Gateway \\/ Received RSSI LoRaNetworkTest\\.loRaGW\\[\"+str(i)+\"|Gateway \\/ Received Message Id LoRaNetworkTest\\.loRaGW\\[\"+str(i)).copy()\n",
    "    if len(dfGW.columns) < 3:\n",
    "        skipped += 1\n",
    "        continue\n",
    "    dfGW.rename(columns={\"t\": \"t.loRaGW[\"+str(i)+\"]\"}, inplace=True)\n",
    "    dfGW.dropna(thresh=3, inplace=True)\n",
    "    if i - skipped == 0:\n",
    "        dfJoined = pd.merge(dfCount,\n",
    "                              dfGW,\n",
    "                              left_on=dfCount.columns[1],\n",
    "                              right_on=dfGW.columns[1],\n",
    "                              how='left')\n",
    "\n",
    "\n",
    "    else:\n",
    "        dfJoined = pd.merge(dfJoined,\n",
    "                          dfGW,\n",
    "                          left_on=dfJoined.columns[1],\n",
    "                          right_on=dfGW.columns[1],\n",
    "                          how='left')\n",
    "    dfJoined.drop(dfJoined.columns[-2], axis=1, inplace=True)\n",
    "    nullValues = {dfJoined.columns[-1]: -1000}\n",
    "    dfJoined.fillna(nullValues, inplace=True)"
   ],
   "metadata": {
    "collapsed": false,
    "pycharm": {
     "name": "#%%\n"
    }
   }
  },
  {
   "cell_type": "code",
   "execution_count": 435,
   "outputs": [
    {
     "data": {
      "text/plain": "                t  \\\n128  91399.318963   \n162  91536.981658   \n212  94507.865585   \n278  99370.314424   \n312  99477.593415   \n\n     counter Vector LoRaNetworkTest.loRaNodes[0].SimpleLoRaApp($0=\"avg\", #0 - General-0-20210629-16:51:53-20143)  \\\n128                                                8.0                                                             \n162                                                9.0                                                             \n212                                               11.0                                                             \n278                                               14.0                                                             \n312                                               15.0                                                             \n\n      t.loRaGW[0]  \\\n128           NaN   \n162           NaN   \n212           NaN   \n278           NaN   \n312  99478.086983   \n\n     Gateway / Received RSSI LoRaNetworkTest.loRaGW[0].packetForwarder($0=\"avg\", #0 - General-0-20210629-16:51:53-20143)  \\\n128                                       -1000.000000                                                                     \n162                                       -1000.000000                                                                     \n212                                       -1000.000000                                                                     \n278                                       -1000.000000                                                                     \n312                                        -131.432978                                                                     \n\n      t.loRaGW[1]  \\\n128           NaN   \n162           NaN   \n212  94508.359153   \n278           NaN   \n312           NaN   \n\n     Gateway / Received RSSI LoRaNetworkTest.loRaGW[1].packetForwarder($0=\"avg\", #0 - General-0-20210629-16:51:53-20143)  \\\n128                                       -1000.000000                                                                     \n162                                       -1000.000000                                                                     \n212                                        -130.852853                                                                     \n278                                       -1000.000000                                                                     \n312                                       -1000.000000                                                                     \n\n      t.loRaGW[2]  \\\n128           NaN   \n162           NaN   \n212           NaN   \n278  99370.807992   \n312           NaN   \n\n     Gateway / Received RSSI LoRaNetworkTest.loRaGW[2].packetForwarder($0=\"avg\", #0 - General-0-20210629-16:51:53-20143)  \\\n128                                       -1000.000000                                                                     \n162                                       -1000.000000                                                                     \n212                                       -1000.000000                                                                     \n278                                        -129.433196                                                                     \n312                                       -1000.000000                                                                     \n\n      t.loRaGW[4]  \\\n128  91399.812532   \n162  91537.475227   \n212           NaN   \n278           NaN   \n312           NaN   \n\n     Gateway / Received RSSI LoRaNetworkTest.loRaGW[4].packetForwarder($0=\"avg\", #0 - General-0-20210629-16:51:53-20143)  \\\n128                                        -130.982573                                                                     \n162                                        -129.298622                                                                     \n212                                       -1000.000000                                                                     \n278                                       -1000.000000                                                                     \n312                                       -1000.000000                                                                     \n\n     SF Vector LoRaNetworkTest.loRaNodes[0].SimpleLoRaApp($0=\"avg\", #0 - General-0-20210629-16:51:53-20143)  \\\n128                                               10.0                                                        \n162                                               10.0                                                        \n212                                               10.0                                                        \n278                                               10.0                                                        \n312                                               10.0                                                        \n\n     TP Vector LoRaNetworkTest.loRaNodes[0].SimpleLoRaApp($0=\"avg\", #0 - General-0-20210629-16:51:53-20143)  \\\n128                                                0.0                                                        \n162                                                0.0                                                        \n212                                                0.0                                                        \n278                                                0.0                                                        \n312                                                0.0                                                        \n\n     X Vector LoRaNetworkTest.loRaNodes[0].SimpleLoRaApp($0=\"avg\", #0 - General-0-20210629-16:51:53-20143)  \\\n128                                         381.302926                                                       \n162                                         351.797132                                                       \n212                                         255.475823                                                       \n278                                         427.591964                                                       \n312                                         105.017439                                                       \n\n     Y Vector LoRaNetworkTest.loRaNodes[0].SimpleLoRaApp($0=\"avg\", #0 - General-0-20210629-16:51:53-20143)  \\\n128                                         310.355431                                                       \n162                                         342.195139                                                       \n212                                         102.504617                                                       \n278                                         361.960116                                                       \n312                                         125.727165                                                       \n\n     Z Vector LoRaNetworkTest.loRaNodes[0].SimpleLoRaApp($0=\"avg\", #0 - General-0-20210629-16:51:53-20143)  \n128                                           1.274919                                                      \n162                                           1.751871                                                      \n212                                           1.624395                                                      \n278                                           1.053767                                                      \n312                                           1.032485                                                      ",
      "text/html": "<div>\n<style scoped>\n    .dataframe tbody tr th:only-of-type {\n        vertical-align: middle;\n    }\n\n    .dataframe tbody tr th {\n        vertical-align: top;\n    }\n\n    .dataframe thead th {\n        text-align: right;\n    }\n</style>\n<table border=\"1\" class=\"dataframe\">\n  <thead>\n    <tr style=\"text-align: right;\">\n      <th></th>\n      <th>t</th>\n      <th>counter Vector LoRaNetworkTest.loRaNodes[0].SimpleLoRaApp($0=\"avg\", #0 - General-0-20210629-16:51:53-20143)</th>\n      <th>t.loRaGW[0]</th>\n      <th>Gateway / Received RSSI LoRaNetworkTest.loRaGW[0].packetForwarder($0=\"avg\", #0 - General-0-20210629-16:51:53-20143)</th>\n      <th>t.loRaGW[1]</th>\n      <th>Gateway / Received RSSI LoRaNetworkTest.loRaGW[1].packetForwarder($0=\"avg\", #0 - General-0-20210629-16:51:53-20143)</th>\n      <th>t.loRaGW[2]</th>\n      <th>Gateway / Received RSSI LoRaNetworkTest.loRaGW[2].packetForwarder($0=\"avg\", #0 - General-0-20210629-16:51:53-20143)</th>\n      <th>t.loRaGW[4]</th>\n      <th>Gateway / Received RSSI LoRaNetworkTest.loRaGW[4].packetForwarder($0=\"avg\", #0 - General-0-20210629-16:51:53-20143)</th>\n      <th>SF Vector LoRaNetworkTest.loRaNodes[0].SimpleLoRaApp($0=\"avg\", #0 - General-0-20210629-16:51:53-20143)</th>\n      <th>TP Vector LoRaNetworkTest.loRaNodes[0].SimpleLoRaApp($0=\"avg\", #0 - General-0-20210629-16:51:53-20143)</th>\n      <th>X Vector LoRaNetworkTest.loRaNodes[0].SimpleLoRaApp($0=\"avg\", #0 - General-0-20210629-16:51:53-20143)</th>\n      <th>Y Vector LoRaNetworkTest.loRaNodes[0].SimpleLoRaApp($0=\"avg\", #0 - General-0-20210629-16:51:53-20143)</th>\n      <th>Z Vector LoRaNetworkTest.loRaNodes[0].SimpleLoRaApp($0=\"avg\", #0 - General-0-20210629-16:51:53-20143)</th>\n    </tr>\n  </thead>\n  <tbody>\n    <tr>\n      <th>128</th>\n      <td>91399.318963</td>\n      <td>8.0</td>\n      <td>NaN</td>\n      <td>-1000.000000</td>\n      <td>NaN</td>\n      <td>-1000.000000</td>\n      <td>NaN</td>\n      <td>-1000.000000</td>\n      <td>91399.812532</td>\n      <td>-130.982573</td>\n      <td>10.0</td>\n      <td>0.0</td>\n      <td>381.302926</td>\n      <td>310.355431</td>\n      <td>1.274919</td>\n    </tr>\n    <tr>\n      <th>162</th>\n      <td>91536.981658</td>\n      <td>9.0</td>\n      <td>NaN</td>\n      <td>-1000.000000</td>\n      <td>NaN</td>\n      <td>-1000.000000</td>\n      <td>NaN</td>\n      <td>-1000.000000</td>\n      <td>91537.475227</td>\n      <td>-129.298622</td>\n      <td>10.0</td>\n      <td>0.0</td>\n      <td>351.797132</td>\n      <td>342.195139</td>\n      <td>1.751871</td>\n    </tr>\n    <tr>\n      <th>212</th>\n      <td>94507.865585</td>\n      <td>11.0</td>\n      <td>NaN</td>\n      <td>-1000.000000</td>\n      <td>94508.359153</td>\n      <td>-130.852853</td>\n      <td>NaN</td>\n      <td>-1000.000000</td>\n      <td>NaN</td>\n      <td>-1000.000000</td>\n      <td>10.0</td>\n      <td>0.0</td>\n      <td>255.475823</td>\n      <td>102.504617</td>\n      <td>1.624395</td>\n    </tr>\n    <tr>\n      <th>278</th>\n      <td>99370.314424</td>\n      <td>14.0</td>\n      <td>NaN</td>\n      <td>-1000.000000</td>\n      <td>NaN</td>\n      <td>-1000.000000</td>\n      <td>99370.807992</td>\n      <td>-129.433196</td>\n      <td>NaN</td>\n      <td>-1000.000000</td>\n      <td>10.0</td>\n      <td>0.0</td>\n      <td>427.591964</td>\n      <td>361.960116</td>\n      <td>1.053767</td>\n    </tr>\n    <tr>\n      <th>312</th>\n      <td>99477.593415</td>\n      <td>15.0</td>\n      <td>99478.086983</td>\n      <td>-131.432978</td>\n      <td>NaN</td>\n      <td>-1000.000000</td>\n      <td>NaN</td>\n      <td>-1000.000000</td>\n      <td>NaN</td>\n      <td>-1000.000000</td>\n      <td>10.0</td>\n      <td>0.0</td>\n      <td>105.017439</td>\n      <td>125.727165</td>\n      <td>1.032485</td>\n    </tr>\n  </tbody>\n</table>\n</div>"
     },
     "execution_count": 435,
     "metadata": {},
     "output_type": "execute_result"
    }
   ],
   "source": [
    "dfJoined.dropna(thresh=len(dfCount.columns)+numberOfGWs, inplace=True)\n",
    "#dfJoined.drop(dfJoined.columns[[a for a in range(1,5*3-1) if a%3 == 2]], axis=1, inplace=True)\n",
    "dfTot = dfJoined.join(dfNode)\n",
    "dfTot.to_csv(resultsPath, index=False)\n",
    "dfTot.head()"
   ],
   "metadata": {
    "collapsed": false,
    "pycharm": {
     "name": "#%%\n"
    }
   }
  },
  {
   "cell_type": "code",
   "execution_count": 436,
   "outputs": [
    {
     "name": "stdout",
     "output_type": "stream",
     "text": [
      "    <object position=\"min 2282 2029 0\" orientation=\"0 0 0\" shape=\"cuboid 1835 2437 300\" material=\"concrete\" fill-color=\"200 0 0\" opacity=\"0.8\"/>\n"
     ]
    }
   ],
   "source": [
    "newObstaclePos = [random.randint(10,4790) for _ in range(2)]\n",
    "newObstacleShape = [random.randint(10,4800-newObstaclePos[i]) for i in range(2)]\n",
    "print('    <object position=\"min %s %s 0\" orientation=\"0 0 0\" shape=\"cuboid %s %s 300\" material=\"concrete\" fill-color=\"200 0 0\" opacity=\"0.8\"/>' % tuple(newObstaclePos+newObstacleShape))"
   ],
   "metadata": {
    "collapsed": false,
    "pycharm": {
     "name": "#%%\n"
    }
   }
  }
 ],
 "metadata": {
  "kernelspec": {
   "display_name": "Python 3",
   "language": "python",
   "name": "python3"
  },
  "language_info": {
   "codemirror_mode": {
    "name": "ipython",
    "version": 2
   },
   "file_extension": ".py",
   "mimetype": "text/x-python",
   "name": "python",
   "nbconvert_exporter": "python",
   "pygments_lexer": "ipython2",
   "version": "2.7.6"
  }
 },
 "nbformat": 4,
 "nbformat_minor": 0
}